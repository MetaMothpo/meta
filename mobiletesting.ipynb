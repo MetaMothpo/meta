{
 "cells": [
  {
   "cell_type": "code",
   "execution_count": 39,
   "metadata": {},
   "outputs": [
    {
     "ename": "NoSuchElementException",
     "evalue": "Message: An element could not be located on the page using the given search parameters.; For documentation on this error, please visit: https://www.selenium.dev/documentation/webdriver/troubleshooting/errors#no-such-element-exception\nStacktrace:\nNoSuchElementError: An element could not be located on the page using the given search parameters.\n    at AndroidUiautomator2Driver.findElOrEls (C:\\Users\\Meta1\\.appium\\node_modules\\appium-uiautomator2-driver\\node_modules\\appium-android-driver\\lib\\commands\\find.ts:86:11)\n    at processTicksAndRejections (node:internal/process/task_queues:95:5)\n    at AndroidUiautomator2Driver.findElOrElsWithProcessing (C:\\Users\\Meta1\\AppData\\Roaming\\npm\\node_modules\\appium\\node_modules\\@appium\\base-driver\\lib\\basedriver\\commands\\find.ts:60:12)\n    at AndroidUiautomator2Driver.findElement (C:\\Users\\Meta1\\AppData\\Roaming\\npm\\node_modules\\appium\\node_modules\\@appium\\base-driver\\lib\\basedriver\\commands\\find.ts:75:12)",
     "output_type": "error",
     "traceback": [
      "\u001b[1;31m---------------------------------------------------------------------------\u001b[0m",
      "\u001b[1;31mNoSuchElementException\u001b[0m                    Traceback (most recent call last)",
      "Cell \u001b[1;32mIn[39], line 49\u001b[0m\n\u001b[0;32m     46\u001b[0m actions\u001b[38;5;241m.\u001b[39mw3c_actions\u001b[38;5;241m.\u001b[39mpointer_action\u001b[38;5;241m.\u001b[39mrelease()\n\u001b[0;32m     47\u001b[0m actions\u001b[38;5;241m.\u001b[39mperform()\n\u001b[1;32m---> 49\u001b[0m el1 \u001b[38;5;241m=\u001b[39m \u001b[43mdriver\u001b[49m\u001b[38;5;241;43m.\u001b[39;49m\u001b[43mfind_element\u001b[49m\u001b[43m(\u001b[49m\u001b[43mby\u001b[49m\u001b[38;5;241;43m=\u001b[39;49m\u001b[43mAppiumBy\u001b[49m\u001b[38;5;241;43m.\u001b[39;49m\u001b[43mID\u001b[49m\u001b[43m,\u001b[49m\u001b[43m \u001b[49m\u001b[43mvalue\u001b[49m\u001b[38;5;241;43m=\u001b[39;49m\u001b[38;5;124;43m\"\u001b[39;49m\u001b[38;5;124;43mcom.momosasit:id/mat_edit_outline\u001b[39;49m\u001b[38;5;124;43m\"\u001b[39;49m\u001b[43m)\u001b[49m\n\u001b[0;32m     50\u001b[0m el1\u001b[38;5;241m.\u001b[39msend_keys(\u001b[38;5;124m\"\u001b[39m\u001b[38;5;124m12121\u001b[39m\u001b[38;5;124m\"\u001b[39m)\n\u001b[0;32m     51\u001b[0m el2 \u001b[38;5;241m=\u001b[39m driver\u001b[38;5;241m.\u001b[39mfind_element(by\u001b[38;5;241m=\u001b[39mAppiumBy\u001b[38;5;241m.\u001b[39mANDROID_UIAUTOMATOR, value\u001b[38;5;241m=\u001b[39m\u001b[38;5;124m\"\u001b[39m\u001b[38;5;124mnew UiSelector().text(\u001b[39m\u001b[38;5;130;01m\\\"\u001b[39;00m\u001b[38;5;124mSign in\u001b[39m\u001b[38;5;130;01m\\\"\u001b[39;00m\u001b[38;5;124m)\u001b[39m\u001b[38;5;124m\"\u001b[39m)\n",
      "File \u001b[1;32mc:\\Users\\Meta1\\OneDrive - MTN Group\\Desktop\\meta\\myenv\\lib\\site-packages\\appium\\webdriver\\webdriver.py:382\u001b[0m, in \u001b[0;36mWebDriver.find_element\u001b[1;34m(self, by, value)\u001b[0m\n\u001b[0;32m    353\u001b[0m \u001b[38;5;250m\u001b[39m\u001b[38;5;124;03m\"\"\"\u001b[39;00m\n\u001b[0;32m    354\u001b[0m \u001b[38;5;124;03mFind an element given a AppiumBy strategy and locator\u001b[39;00m\n\u001b[0;32m    355\u001b[0m \n\u001b[1;32m   (...)\u001b[0m\n\u001b[0;32m    365\u001b[0m \n\u001b[0;32m    366\u001b[0m \u001b[38;5;124;03m\"\"\"\u001b[39;00m\n\u001b[0;32m    367\u001b[0m \u001b[38;5;66;03m# We prefer to patch locators in the client code\u001b[39;00m\n\u001b[0;32m    368\u001b[0m \u001b[38;5;66;03m# Checking current context every time a locator is accessed could significantly slow down tests\u001b[39;00m\n\u001b[0;32m    369\u001b[0m \u001b[38;5;66;03m# Check https://github.com/appium/python-client/pull/724 before submitting any issue\u001b[39;00m\n\u001b[1;32m   (...)\u001b[0m\n\u001b[0;32m    379\u001b[0m \u001b[38;5;66;03m#     by = By.CSS_SELECTOR\u001b[39;00m\n\u001b[0;32m    380\u001b[0m \u001b[38;5;66;03m#     value = '[name=\"%s\"]' % value\u001b[39;00m\n\u001b[1;32m--> 382\u001b[0m \u001b[38;5;28;01mreturn\u001b[39;00m \u001b[38;5;28;43mself\u001b[39;49m\u001b[38;5;241;43m.\u001b[39;49m\u001b[43mexecute\u001b[49m\u001b[43m(\u001b[49m\u001b[43mRemoteCommand\u001b[49m\u001b[38;5;241;43m.\u001b[39;49m\u001b[43mFIND_ELEMENT\u001b[49m\u001b[43m,\u001b[49m\u001b[43m \u001b[49m\u001b[43m{\u001b[49m\u001b[38;5;124;43m'\u001b[39;49m\u001b[38;5;124;43musing\u001b[39;49m\u001b[38;5;124;43m'\u001b[39;49m\u001b[43m:\u001b[49m\u001b[43m \u001b[49m\u001b[43mby\u001b[49m\u001b[43m,\u001b[49m\u001b[43m \u001b[49m\u001b[38;5;124;43m'\u001b[39;49m\u001b[38;5;124;43mvalue\u001b[39;49m\u001b[38;5;124;43m'\u001b[39;49m\u001b[43m:\u001b[49m\u001b[43m \u001b[49m\u001b[43mvalue\u001b[49m\u001b[43m}\u001b[49m\u001b[43m)\u001b[49m[\u001b[38;5;124m'\u001b[39m\u001b[38;5;124mvalue\u001b[39m\u001b[38;5;124m'\u001b[39m]\n",
      "File \u001b[1;32mc:\\Users\\Meta1\\OneDrive - MTN Group\\Desktop\\meta\\myenv\\lib\\site-packages\\selenium\\webdriver\\remote\\webdriver.py:354\u001b[0m, in \u001b[0;36mWebDriver.execute\u001b[1;34m(self, driver_command, params)\u001b[0m\n\u001b[0;32m    352\u001b[0m response \u001b[38;5;241m=\u001b[39m \u001b[38;5;28mself\u001b[39m\u001b[38;5;241m.\u001b[39mcommand_executor\u001b[38;5;241m.\u001b[39mexecute(driver_command, params)\n\u001b[0;32m    353\u001b[0m \u001b[38;5;28;01mif\u001b[39;00m response:\n\u001b[1;32m--> 354\u001b[0m     \u001b[38;5;28;43mself\u001b[39;49m\u001b[38;5;241;43m.\u001b[39;49m\u001b[43merror_handler\u001b[49m\u001b[38;5;241;43m.\u001b[39;49m\u001b[43mcheck_response\u001b[49m\u001b[43m(\u001b[49m\u001b[43mresponse\u001b[49m\u001b[43m)\u001b[49m\n\u001b[0;32m    355\u001b[0m     response[\u001b[38;5;124m\"\u001b[39m\u001b[38;5;124mvalue\u001b[39m\u001b[38;5;124m\"\u001b[39m] \u001b[38;5;241m=\u001b[39m \u001b[38;5;28mself\u001b[39m\u001b[38;5;241m.\u001b[39m_unwrap_value(response\u001b[38;5;241m.\u001b[39mget(\u001b[38;5;124m\"\u001b[39m\u001b[38;5;124mvalue\u001b[39m\u001b[38;5;124m\"\u001b[39m, \u001b[38;5;28;01mNone\u001b[39;00m))\n\u001b[0;32m    356\u001b[0m     \u001b[38;5;28;01mreturn\u001b[39;00m response\n",
      "File \u001b[1;32mc:\\Users\\Meta1\\OneDrive - MTN Group\\Desktop\\meta\\myenv\\lib\\site-packages\\appium\\webdriver\\errorhandler.py:125\u001b[0m, in \u001b[0;36mMobileErrorHandler.check_response\u001b[1;34m(self, response)\u001b[0m\n\u001b[0;32m    119\u001b[0m \u001b[38;5;28;01mif\u001b[39;00m exception_class \u001b[38;5;129;01mis\u001b[39;00m sel_exceptions\u001b[38;5;241m.\u001b[39mUnexpectedAlertPresentException:\n\u001b[0;32m    120\u001b[0m     \u001b[38;5;28;01mraise\u001b[39;00m sel_exceptions\u001b[38;5;241m.\u001b[39mUnexpectedAlertPresentException(\n\u001b[0;32m    121\u001b[0m         msg\u001b[38;5;241m=\u001b[39mmessage,\n\u001b[0;32m    122\u001b[0m         stacktrace\u001b[38;5;241m=\u001b[39mformat_stacktrace(stacktrace),\n\u001b[0;32m    123\u001b[0m         alert_text\u001b[38;5;241m=\u001b[39mvalue\u001b[38;5;241m.\u001b[39mget(\u001b[38;5;124m'\u001b[39m\u001b[38;5;124mdata\u001b[39m\u001b[38;5;124m'\u001b[39m),\n\u001b[0;32m    124\u001b[0m     )\n\u001b[1;32m--> 125\u001b[0m \u001b[38;5;28;01mraise\u001b[39;00m exception_class(msg\u001b[38;5;241m=\u001b[39mmessage, stacktrace\u001b[38;5;241m=\u001b[39mformat_stacktrace(stacktrace))\n",
      "\u001b[1;31mNoSuchElementException\u001b[0m: Message: An element could not be located on the page using the given search parameters.; For documentation on this error, please visit: https://www.selenium.dev/documentation/webdriver/troubleshooting/errors#no-such-element-exception\nStacktrace:\nNoSuchElementError: An element could not be located on the page using the given search parameters.\n    at AndroidUiautomator2Driver.findElOrEls (C:\\Users\\Meta1\\.appium\\node_modules\\appium-uiautomator2-driver\\node_modules\\appium-android-driver\\lib\\commands\\find.ts:86:11)\n    at processTicksAndRejections (node:internal/process/task_queues:95:5)\n    at AndroidUiautomator2Driver.findElOrElsWithProcessing (C:\\Users\\Meta1\\AppData\\Roaming\\npm\\node_modules\\appium\\node_modules\\@appium\\base-driver\\lib\\basedriver\\commands\\find.ts:60:12)\n    at AndroidUiautomator2Driver.findElement (C:\\Users\\Meta1\\AppData\\Roaming\\npm\\node_modules\\appium\\node_modules\\@appium\\base-driver\\lib\\basedriver\\commands\\find.ts:75:12)"
     ]
    }
   ],
   "source": [
    "# This sample code supports Appium Python client >=2.3.0\n",
    "# pip install Appium-Python-Client\n",
    "# Then you can paste this into a file and simply run with Python\n",
    "\n",
    "from appium import webdriver\n",
    "from appium.options.common.base import AppiumOptions\n",
    "from appium.webdriver.common.appiumby import AppiumBy\n",
    "\n",
    "# For W3C actions\n",
    "from selenium.webdriver.common.action_chains import ActionChains\n",
    "from selenium.webdriver.common.actions import interaction\n",
    "from selenium.webdriver.common.actions.action_builder import ActionBuilder\n",
    "from selenium.webdriver.common.actions.pointer_input import PointerInput\n",
    "from selenium.webdriver.support.ui import WebDriverWait\n",
    "from selenium.webdriver.support import expected_conditions as EC\n",
    "from selenium.webdriver.support import expected_conditions as EC\n",
    "import time\n",
    "\n",
    "\n",
    "\n",
    "options = AppiumOptions()\n",
    "options.load_capabilities({\n",
    "\t\"appium:automationName\": \"UiAutomator2\",\n",
    "\t\"appium:platformName\": \"Android\",\n",
    "\t\"appium:platformVersion\": \"15\",\n",
    "\t\"appium:deviceName\": \"MyMediumPhone35\",\n",
    "\t\"appium:newCommandTimeout\": 3600,\n",
    "\t\"appium:connectHardwareKeyboard\": True\n",
    "})\n",
    "\n",
    "driver = webdriver.Remote(\"http://127.0.0.1:4723\", options=options)\n",
    "\n",
    "actions = ActionChains(driver)\n",
    "actions.w3c_actions = ActionBuilder(driver, mouse=PointerInput(interaction.POINTER_TOUCH, \"touch\"))\n",
    "actions.w3c_actions.pointer_action.move_to_location(461, 1175)\n",
    "actions.w3c_actions.pointer_action.pointer_down()\n",
    "actions.w3c_actions.pointer_action.move_to_location(491, 476)\n",
    "actions.w3c_actions.pointer_action.release()\n",
    "actions.perform()\n",
    "\n",
    "actions = ActionChains(driver)\n",
    "actions.w3c_actions = ActionBuilder(driver, mouse=PointerInput(interaction.POINTER_TOUCH, \"touch\"))\n",
    "actions.w3c_actions.pointer_action.move_to_location(892, 1468)\n",
    "actions.w3c_actions.pointer_action.pointer_down()\n",
    "actions.w3c_actions.pointer_action.pause(0.1)\n",
    "actions.w3c_actions.pointer_action.release()\n",
    "actions.perform()\n",
    "\n",
    "el1 = driver.find_element(by=AppiumBy.ID, value=\"com.momosasit:id/mat_edit_outline\")\n",
    "el1.send_keys(\"12121\")\n",
    "el2 = driver.find_element(by=AppiumBy.ANDROID_UIAUTOMATOR, value=\"new UiSelector().text(\\\"Sign in\\\")\")\n",
    "el2.click()\n",
    "\n",
    "\n",
    "#el3 = driver.find_element(by=AppiumBy.ANDROID_UIAUTOMATOR, value=\"new UiSelector().text(\\\"Skip\\\")\")\n",
    "#el3.click()\n",
    "# Wait for the element using XPath\n",
    "try:\n",
    "    wait = WebDriverWait(driver, 20)\n",
    "    Skip_button = wait.until(EC.visibility_of_element_located((AppiumBy.XPATH, '//android.widget.TextView[@text=\"Skip\"]')))\n",
    "\n",
    "    # Try clicking the element\n",
    "    if Skip_button.is_displayed():\n",
    "        Skip_button.click()\n",
    "        print(\"Clicked on the 'Skip' button.\")\n",
    "    else:\n",
    "        print(\"Element not displayed.\")\n",
    "        driver.quit()\n",
    "\n",
    "\n",
    "    wait = WebDriverWait(driver,20)\n",
    "    View_balance = wait.until(EC.visibility_of_element_located((AppiumBy.ANDROID_UIAUTOMATOR, 'new UiSelector().text(\"R0.00\")')))\n",
    "\n",
    "\n",
    "    if View_balance.is_displayed():\n",
    "        Customer_balance = View_balance.text\n",
    "        print('Customer signed in successfully, Customer Balance:',Customer_balance)\n",
    "        \n",
    "\n",
    "except Exception as e:\n",
    "    print('Login failed')\n",
    "    Click_Done = driver.find_element(by=AppiumBy.ANDROID_UIAUTOMATOR, value='new UiSelector().className(\"android.view.ViewGroup\").instance(36)')\n",
    "    Click_Done.click()\n",
    "\n"
   ]
  },
  {
   "cell_type": "code",
   "execution_count": null,
   "metadata": {},
   "outputs": [],
   "source": [
    "\n",
    "from selenium.common.exceptions import TimeoutException\n",
    "\n",
    "# Set up capabilities for the Android device\n",
    "options = AppiumOptions()\n",
    "options.load_capabilities({\n",
    "    \"appium:automationName\": \"UiAutomator2\",\n",
    "    \"appium:platformName\": \"Android\",\n",
    "    \"appium:deviceName\": \"MyMediumPhone35\",\n",
    "    \"appium:newCommandTimeout\": 3600,\n",
    "    \"appium:connectHardwareKeyboard\": True\n",
    "})\n",
    "\n",
    "# Start the Appium driver\n",
    "driver = webdriver.Remote(\"http://127.0.0.1:4723\", options=options)\n",
    "\n",
    "try:\n",
    "    # Wait for the custom popup to be present\n",
    "    wait = WebDriverWait(driver, 10)\n",
    "    \n",
    "    try:\n",
    "        # Locate the custom popup\n",
    "        print(\"Waiting for the custom popup...\")\n",
    "        SignOut_popup = wait.until(EC.presence_of_element_located((AppiumBy.ANDROID_UIAUTOMATOR, 'new UiSelector().text(\"Yes\")')))\n",
    "        print(\"Custom popup found.\")\n",
    "\n",
    "        # Locate the \"Yes\" button within the popup\n",
    "        SignOut_yes = SignOut_popup.find_element(by=AppiumBy.ANDROID_UIAUTOMATOR, value='new UiSelector().text(\"Yes\")')\n",
    "        SignOut_yes.click()\n",
    "        print(\"Clicked on the 'Yes' button.\")\n",
    "    except TimeoutException:\n",
    "        print(\"Custom popup not found.\")\n",
    "    \n",
    "finally:\n",
    "    # Quit the driver\n",
    "    driver.quit()\n"
   ]
  },
  {
   "cell_type": "code",
   "execution_count": 5,
   "metadata": {},
   "outputs": [],
   "source": [
    "from appium.webdriver.common.appiumby import AppiumBy\n",
    "\n",
    "class LoginPage:\n",
    "    def __init__(self, driver):\n",
    "        self.driver = driver\n",
    "        self.MoMoPIN = (AppiumBy.ID, \"com.momosa:id/mat_edit_outline\")\n",
    "        self.login_button = (AppiumBy.ANDROID_UIAUTOMATOR, \"new UiSelector().className(\\\"android.view.ViewGroup\\\").instance(15)\")\n",
    "\n",
    "    def enter_MoMoPIN(self, PIN):\n",
    "        self.driver.find_element(*self.MoMoPIN).send_keys(PIN)\n",
    "\n",
    "    def click_signIn_button(self):\n",
    "        self.driver.find_element(*self.login_button).click()\n"
   ]
  },
  {
   "cell_type": "code",
   "execution_count": null,
   "metadata": {},
   "outputs": [],
   "source": [
    "import unittest\n",
    "from appium import webdriver\n",
    "import sys\n",
    "import os\n",
    "\n",
    "\n",
    "#sys.path.append(os.path.abspath(os.path.join(os.path.dirname(__file__), 'C:/Users/Meta1/OneDrive - MTN Group/Desktop/meta/pages')))\n",
    "\n",
    "\n",
    "class LoginTest(unittest.TestCase):\n",
    "    def setUp(self):\n",
    "        desired_caps = {\n",
    "            \"appium:automationName\": \"UiAutomator2\",\n",
    "            \"appium:platformName\": \"Android\",\n",
    "            \"appium:platformVersion\": \"15\",  # Adjust according to your device/emulator version\n",
    "            \"appium:deviceName\": \"MyPhonePixel8\",  # Ensure this matches your device/emulator name\n",
    "            \"appium:newCommandTimeout\": 3600,\n",
    "            \"appium:connectHardwareKeyboard\": True\n",
    "        }\n",
    "        self.driver = webdriver.Remote(\"http://127.0.0.1:4723\", desired_caps)\n",
    "        self.login_page = LoginPage(self.driver)\n",
    "\n",
    "    def test_login(self):\n",
    "        self.login_page.enter_MoMoPIN(\"12345\")\n",
    "        self.login_page.click_signIn_button()\n",
    "        # Add assertions here to verify the login was successful\n",
    "\n",
    "    def tearDown(self):\n",
    "        self.driver.quit()\n",
    "\n",
    "if __name__ == \"__main__\":\n",
    "    unittest.main()\n"
   ]
  },
  {
   "cell_type": "code",
   "execution_count": null,
   "metadata": {},
   "outputs": [],
   "source": [
    "import unittest\n",
    "\n",
    "def add(a, b):\n",
    "    return a + b\n",
    "\n",
    "class TestAddFunction(unittest.TestCase):\n",
    "    \n",
    "    def setUp(self):\n",
    "        print(\"Setting up before a test\")\n",
    "    \n",
    "    def tearDown(self):\n",
    "        print(\"Cleaning up after a test\")\n",
    "\n",
    "    def test_add_positive_numbers(self):\n",
    "        self.assertEqual(add(2, 3), 5)\n",
    "\n",
    "    def test_add_negative_numbers(self):\n",
    "        self.assertEqual(add(-2, -3), -5)\n",
    "\n",
    "    def test_add_zero(self):\n",
    "        self.assertEqual(add(0, 0), 0)\n",
    "\n",
    "if __name__ == '__main__':\n",
    "    unittest.main()\n"
   ]
  },
  {
   "cell_type": "code",
   "execution_count": 12,
   "metadata": {},
   "outputs": [],
   "source": [
    "from selenium.common.exceptions import TimeoutException\n",
    "def test():\n",
    "    try:\n",
    "        a,b = 1,0\n",
    "        d = a/b\n",
    "        return d\n",
    "    except ZeroDivisionError as e:\n",
    "        print(f'{str(e)}')\n",
    "        return None"
   ]
  },
  {
   "cell_type": "code",
   "execution_count": 13,
   "metadata": {},
   "outputs": [
    {
     "name": "stdout",
     "output_type": "stream",
     "text": [
      "division by zero\n"
     ]
    }
   ],
   "source": [
    "test()"
   ]
  },
  {
   "cell_type": "code",
   "execution_count": 16,
   "metadata": {},
   "outputs": [],
   "source": [
    "def test_1():\n",
    "    c,d = 2,3\n",
    "    sum = c+d\n",
    "    if sum ==5:\n",
    "        return True\n",
    "    else: \n",
    "        return False\n"
   ]
  },
  {
   "cell_type": "code",
   "execution_count": 17,
   "metadata": {},
   "outputs": [
    {
     "data": {
      "text/plain": [
       "True"
      ]
     },
     "execution_count": 17,
     "metadata": {},
     "output_type": "execute_result"
    }
   ],
   "source": [
    "test_1()"
   ]
  },
  {
   "cell_type": "code",
   "execution_count": 32,
   "metadata": {},
   "outputs": [],
   "source": [
    "def test_2():\n",
    "    a= 'Meta'\n",
    "    b= 'Mothapo'\n",
    "    c= 'metamakobedi@gmail.com'\n",
    "    return a,b,c\n",
    "    print('Hi there')"
   ]
  },
  {
   "cell_type": "code",
   "execution_count": 2,
   "metadata": {},
   "outputs": [],
   "source": [
    "import pytest\n",
    "\n",
    "@pytest.fixture\n",
    "def setup_and_teardown():\n",
    "    # Setup: Open a file\n",
    "    file = open(\"testfile.txt\", \"w\")\n",
    "    yield file  # Give the file to the test\n",
    "    # Teardown: Close the file after the test\n",
    "    file.close()\n",
    "\n",
    "def test_file_write(setup_and_teardown):\n",
    "    file = setup_and_teardown\n",
    "    file.write(\"Hello, world!\")\n",
    "    file.seek(0)\n",
    "    assert file.read() == \"Hello, world!\"\n"
   ]
  },
  {
   "cell_type": "code",
   "execution_count": 12,
   "metadata": {},
   "outputs": [
    {
     "name": "stdout",
     "output_type": "stream",
     "text": [
      "0\n"
     ]
    }
   ],
   "source": [
    "text = \"Python is fun!\"\n",
    "result = text.find(\"P\")\n",
    "print(result)"
   ]
  },
  {
   "cell_type": "code",
   "execution_count": 8,
   "metadata": {},
   "outputs": [
    {
     "name": "stdout",
     "output_type": "stream",
     "text": [
      "23\n"
     ]
    }
   ],
   "source": [
    "text = \"I enjoy programming in Java and JavaScript.\"\n",
    "start_index = 0\n",
    "result = text.find(\"Java\", start_index)\n",
    "print(result)\n"
   ]
  },
  {
   "cell_type": "code",
   "execution_count": 15,
   "metadata": {},
   "outputs": [
    {
     "name": "stdout",
     "output_type": "stream",
     "text": [
      "Python\n"
     ]
    }
   ],
   "source": [
    "text = \"Python is fun!\"\n",
    "start_index = text.find(\"P\")  # Find the index of 'P'\n",
    "\n",
    "# Find the end of the word by looking for the next space or the end of the string\n",
    "end_index = text.find(\" \", start_index)\n",
    "if end_index == -1:  # If there's no space, the word goes till the end of the string\n",
    "    end_index = len(text)\n",
    "\n",
    "# Extract the word starting with 'P'\n",
    "word = text[start_index:end_index]\n",
    "print(word)\n"
   ]
  }
 ],
 "metadata": {
  "kernelspec": {
   "display_name": "myenv",
   "language": "python",
   "name": "python3"
  },
  "language_info": {
   "codemirror_mode": {
    "name": "ipython",
    "version": 3
   },
   "file_extension": ".py",
   "mimetype": "text/x-python",
   "name": "python",
   "nbconvert_exporter": "python",
   "pygments_lexer": "ipython3",
   "version": "3.10.14"
  }
 },
 "nbformat": 4,
 "nbformat_minor": 2
}
